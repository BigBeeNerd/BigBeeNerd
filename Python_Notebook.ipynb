{
  "nbformat": 4,
  "nbformat_minor": 0,
  "metadata": {
    "colab": {
      "provenance": [],
      "authorship_tag": "ABX9TyPm2U7piPFRgxRTe1epf3Ye",
      "include_colab_link": true
    },
    "kernelspec": {
      "name": "python3",
      "display_name": "Python 3"
    },
    "language_info": {
      "name": "python"
    }
  },
  "cells": [
    {
      "cell_type": "markdown",
      "metadata": {
        "id": "view-in-github",
        "colab_type": "text"
      },
      "source": [
        "<a href=\"https://colab.research.google.com/github/BigBeeNerd/BigBeeNerd/blob/main/Python_Notebook.ipynb\" target=\"_parent\"><img src=\"https://colab.research.google.com/assets/colab-badge.svg\" alt=\"Open In Colab\"/></a>"
      ]
    },
    {
      "cell_type": "markdown",
      "source": [
        "# **TESTING**"
      ],
      "metadata": {
        "id": "JTya5a4KkGRT"
      }
    },
    {
      "cell_type": "code",
      "execution_count": null,
      "metadata": {
        "colab": {
          "base_uri": "https://localhost:8080/"
        },
        "id": "iKj5i_vWkEXv",
        "outputId": "d00462e5-2513-4e9c-9d0a-4378f0eb0291"
      },
      "outputs": [
        {
          "output_type": "stream",
          "name": "stdout",
          "text": [
            "hello world\n"
          ]
        }
      ],
      "source": [
        "print(\"hello world\")"
      ]
    },
    {
      "cell_type": "markdown",
      "source": [
        "# **STRINGS**"
      ],
      "metadata": {
        "id": "zp5S7GBLkUAr"
      }
    },
    {
      "cell_type": "code",
      "source": [
        "\"Hello\" \"World\""
      ],
      "metadata": {
        "colab": {
          "base_uri": "https://localhost:8080/",
          "height": 35
        },
        "id": "sq-6jjY0kWsp",
        "outputId": "2125898c-3830-49d6-b919-46e82c2e144a"
      },
      "execution_count": null,
      "outputs": [
        {
          "output_type": "execute_result",
          "data": {
            "text/plain": [
              "'HelloWorld'"
            ],
            "application/vnd.google.colaboratory.intrinsic+json": {
              "type": "string"
            }
          },
          "metadata": {},
          "execution_count": 4
        }
      ]
    },
    {
      "cell_type": "code",
      "source": [
        "hello = \"hello\"\n",
        "world = \"world\"\n",
        "print(f\"{hello} {world}\")"
      ],
      "metadata": {
        "colab": {
          "base_uri": "https://localhost:8080/"
        },
        "id": "22Hg26dykeN9",
        "outputId": "29e4347c-ded3-457f-d7c1-aabce2adc875"
      },
      "execution_count": null,
      "outputs": [
        {
          "output_type": "stream",
          "name": "stdout",
          "text": [
            "hello world\n"
          ]
        }
      ]
    },
    {
      "cell_type": "markdown",
      "source": [
        "# **BOOLEAN**"
      ],
      "metadata": {
        "id": "h9Nlxis7k6BO"
      }
    },
    {
      "cell_type": "code",
      "source": [
        "#   >   is less than\n",
        "#   <   is greater than\n",
        "#   ==    is equal to\n",
        "#   !=    is not equal to\n",
        "#   True    the condition is true\n",
        "#   False   the condition is false"
      ],
      "metadata": {
        "id": "3D-PVO2Sk8X4"
      },
      "execution_count": null,
      "outputs": []
    },
    {
      "cell_type": "markdown",
      "source": [
        "# **CONDITIONALS**"
      ],
      "metadata": {
        "id": "RRZqlWcblza4"
      }
    },
    {
      "cell_type": "code",
      "source": [
        "if \"apple\" == \"bannana\":\n",
        "  print(\"the fruits are the same\")\n",
        "else:\n",
        "  print(\"the fruits are different\")"
      ],
      "metadata": {
        "id": "BhKvzJnbl27C"
      },
      "execution_count": null,
      "outputs": []
    },
    {
      "cell_type": "code",
      "source": [],
      "metadata": {
        "id": "suXcWZw6SUao"
      },
      "execution_count": null,
      "outputs": []
    },
    {
      "cell_type": "markdown",
      "source": [
        "# **GHOST GAME**"
      ],
      "metadata": {
        "id": "PXdzudkwSXgm"
      }
    },
    {
      "cell_type": "code",
      "source": [
        "def ghost_game():\n",
        "  from random import randint\n",
        "\n",
        "  print(\"Ghost Game\")\n",
        "\n",
        "  feeling_brave = True\n",
        "\n",
        "  score = 0\n",
        "\n",
        "  while feeling_brave:\n",
        "\n",
        "    ghost_door = randint(1, 3)\n",
        "\n",
        "    print(\"Three doors ahead...\")\n",
        "\n",
        "    print(\"A ghost behind one.\")\n",
        "\n",
        "    print(\"Which door do you open?\")\n",
        "\n",
        "    door = input(\"1, 2, or 3? \")\n",
        "\n",
        "    door_num = int(door)\n",
        "\n",
        "    if door_num == ghost_door:\n",
        "\n",
        "      print(\"GHOST!\")\n",
        "\n",
        "      feeling_brave = False\n",
        "\n",
        "    else:\n",
        "\n",
        "      print(\"No ghost!\")\n",
        "\n",
        "      print(\"You enter the next room.\")\n",
        "\n",
        "      score += 1\n",
        "\n",
        "  print(\"Run away!\")\n",
        "\n",
        "  print(f\"Game Over. You survived {score} rooms.\")\n",
        "\n",
        "ghost_game()"
      ],
      "metadata": {
        "colab": {
          "base_uri": "https://localhost:8080/"
        },
        "id": "s2mxNfWPSkPV",
        "outputId": "90358395-0006-406a-93c6-10db1999e43d"
      },
      "execution_count": null,
      "outputs": [
        {
          "output_type": "stream",
          "name": "stdout",
          "text": [
            "Ghost Game\n",
            "Three doors ahead...\n",
            "A ghost behind one.\n",
            "Which door do you open?\n",
            "1, 2, or 3? 3\n",
            "GHOST!\n",
            "Run away!\n",
            "Game Over. You survived 0 rooms.\n"
          ]
        }
      ]
    },
    {
      "cell_type": "markdown",
      "source": [
        "# **MORE TESTING**"
      ],
      "metadata": {
        "id": "gKJGWA8WVmEP"
      }
    },
    {
      "cell_type": "code",
      "source": [
        "ghost_game()\n",
        "\n",
        "#you are able to use previous functions created in other blocks, but not variables."
      ],
      "metadata": {
        "id": "gr2ey1qyVhmd"
      },
      "execution_count": null,
      "outputs": []
    },
    {
      "cell_type": "markdown",
      "source": [
        "# **SIMPLE COMMANDS TO AND FROM SCRATCH AND PYTHON**"
      ],
      "metadata": {
        "id": "VXfdMAiXVyH1"
      }
    },
    {
      "cell_type": "code",
      "source": [
        "print(\"hello\")\n",
        "\n",
        "# Like the [say (hello)] block in scratch"
      ],
      "metadata": {
        "id": "L9SeLBi4V8f0"
      },
      "execution_count": null,
      "outputs": []
    },
    {
      "cell_type": "code",
      "source": [
        "magic_number = 42\n",
        "\n",
        "# like the [set (magic number) to (42)] variable block"
      ],
      "metadata": {
        "id": "Jx0Eog8kWAKo"
      },
      "execution_count": null,
      "outputs": []
    },
    {
      "cell_type": "code",
      "source": [
        "word = \"dragon\"\n",
        "\n",
        "# Like the [set (word) to (dragon)] variable block"
      ],
      "metadata": {
        "id": "Z2w7SgkVWEND"
      },
      "execution_count": null,
      "outputs": []
    },
    {
      "cell_type": "code",
      "source": [
        "age = input(\"age? \")\n",
        "\n",
        "# like the [ask (age?) and wait] block\n",
        "\n",
        "print(f\"I am {age}\")\n",
        "\n",
        "#like the [say (join (i am) (answer))] block"
      ],
      "metadata": {
        "id": "t_9KxnsyWH61"
      },
      "execution_count": null,
      "outputs": []
    },
    {
      "cell_type": "code",
      "source": [
        "cats = 0\n",
        "\n",
        "cats = cats + 1\n",
        "\n",
        "# or\n",
        "\n",
        "cats += 1\n",
        "\n",
        "print(cats)\n",
        "\n",
        "# like the [change (cats) by (1)] variable block"
      ],
      "metadata": {
        "id": "L6JJmZ7ZWkP8",
        "colab": {
          "base_uri": "https://localhost:8080/"
        },
        "outputId": "0861169c-99a0-4279-c58a-2250f91cb620"
      },
      "execution_count": null,
      "outputs": [
        {
          "output_type": "stream",
          "name": "stdout",
          "text": [
            "2\n"
          ]
        }
      ]
    },
    {
      "cell_type": "code",
      "source": [
        "# add\n",
        "\n",
        "1 + 2"
      ],
      "metadata": {
        "id": "iaVKWBOIW1CT",
        "colab": {
          "base_uri": "https://localhost:8080/"
        },
        "outputId": "9893f068-6612-449d-b29d-acc3b7eef3d7"
      },
      "execution_count": null,
      "outputs": [
        {
          "output_type": "execute_result",
          "data": {
            "text/plain": [
              "3"
            ]
          },
          "metadata": {},
          "execution_count": 9
        }
      ]
    },
    {
      "cell_type": "code",
      "source": [
        "# subtract\n",
        "\n",
        "1 - 2"
      ],
      "metadata": {
        "id": "ghs3xNALW75X",
        "colab": {
          "base_uri": "https://localhost:8080/"
        },
        "outputId": "d4b48cbe-dd40-43d3-8a5a-8f103e2f281b"
      },
      "execution_count": null,
      "outputs": [
        {
          "output_type": "execute_result",
          "data": {
            "text/plain": [
              "-1"
            ]
          },
          "metadata": {},
          "execution_count": 10
        }
      ]
    },
    {
      "cell_type": "code",
      "source": [
        "# multiply\n",
        "\n",
        "1 * 2"
      ],
      "metadata": {
        "id": "cma1e4cuW_hB",
        "colab": {
          "base_uri": "https://localhost:8080/"
        },
        "outputId": "91d5b9e5-2d36-4d10-83ff-a41e1a52a58b"
      },
      "execution_count": null,
      "outputs": [
        {
          "output_type": "execute_result",
          "data": {
            "text/plain": [
              "2"
            ]
          },
          "metadata": {},
          "execution_count": 11
        }
      ]
    },
    {
      "cell_type": "code",
      "source": [
        "# divide\n",
        "\n",
        "1 / 2"
      ],
      "metadata": {
        "id": "0rcPSv0iXDQW",
        "colab": {
          "base_uri": "https://localhost:8080/"
        },
        "outputId": "98e33280-943e-4bcb-bdf3-d437d4355230"
      },
      "execution_count": null,
      "outputs": [
        {
          "output_type": "execute_result",
          "data": {
            "text/plain": [
              "0.5"
            ]
          },
          "metadata": {},
          "execution_count": 12
        }
      ]
    },
    {
      "cell_type": "code",
      "source": [
        "# DO NOT RUN THIS CODE IT WILL RUN FOREVER AND CRASH\n",
        "\n",
        "while True:\n",
        "  print(\"1\")\n",
        "\n",
        "# like the [forever]\n",
        "#          []\n",
        "#          []\n",
        "#          []\n",
        "#          [       ] block in scratch"
      ],
      "metadata": {
        "id": "8l1dK2SeXQjR"
      },
      "execution_count": null,
      "outputs": []
    },
    {
      "cell_type": "code",
      "source": [],
      "metadata": {
        "id": "ec-a6mHPUYsl"
      },
      "execution_count": null,
      "outputs": []
    },
    {
      "cell_type": "code",
      "source": [
        "for i in range(10):\n",
        "  print(1)\n",
        "\n",
        "# like the [repeat (10)]\n",
        "#          []\n",
        "#          []\n",
        "#          []\n",
        "#          [           ] block in scratch"
      ],
      "metadata": {
        "id": "9sXaA_UpXeAc"
      },
      "execution_count": null,
      "outputs": []
    },
    {
      "cell_type": "markdown",
      "source": [
        "# **HARDER COMMANDS TO AND FROM SCRATCH AND PYTHON**"
      ],
      "metadata": {
        "id": "8CMmNIq1XzXs"
      }
    },
    {
      "cell_type": "code",
      "source": [
        "# DO NOT RUN THIS CODE IT WILL GO ON FOREVER AND CRASH\n",
        "\n",
        "while 1 != 2:\n",
        "\n",
        "  print(\"1\")\n",
        "\n",
        "#like the [repeat until <1 = 2>]\n",
        "#          []\n",
        "#          []\n",
        "#          []\n",
        "#          [                  ] blocks in scratch"
      ],
      "metadata": {
        "id": "VeoyrV4fXm89"
      },
      "execution_count": null,
      "outputs": []
    },
    {
      "cell_type": "code",
      "source": [
        "from time import sleep\n",
        "\n",
        "print(\"1\")\n",
        "\n",
        "sleep(2)\n",
        "\n",
        "print(\"2\")\n",
        "\n",
        "# like the [wait (2) seconds] blocks in scratch"
      ],
      "metadata": {
        "id": "iCyrExZfYLqS"
      },
      "execution_count": null,
      "outputs": []
    },
    {
      "cell_type": "code",
      "source": [
        "from random import randint\n",
        "\n",
        "roll = randint(1, 6)\n",
        "\n",
        "print(roll)\n",
        "\n",
        "# like the [say (random (1) to (6))]"
      ],
      "metadata": {
        "id": "aq4-xFzWYYL1"
      },
      "execution_count": null,
      "outputs": []
    },
    {
      "cell_type": "code",
      "source": [
        "def jump():\n",
        "\n",
        "  print(\"Jump\")\n",
        "\n",
        "jump()\n",
        "\n",
        "#like the [^---define---]\n",
        "#          []blocks in scratch"
      ],
      "metadata": {
        "id": "r57YufWZZPfC"
      },
      "execution_count": null,
      "outputs": []
    },
    {
      "cell_type": "markdown",
      "source": [
        "# **VARIABLES**"
      ],
      "metadata": {
        "id": "ALE-cOQcdJnS"
      }
    },
    {
      "cell_type": "code",
      "source": [
        "a = \"Coding is fun!\"\n",
        "print(a)"
      ],
      "metadata": {
        "id": "HqIyou66dJKo"
      },
      "execution_count": null,
      "outputs": []
    },
    {
      "cell_type": "code",
      "source": [],
      "metadata": {
        "id": "i4eF_URdFddO"
      },
      "execution_count": null,
      "outputs": []
    },
    {
      "cell_type": "markdown",
      "source": [
        "# **F STRINGS**"
      ],
      "metadata": {
        "id": "t1vgVfFddtJc"
      }
    },
    {
      "cell_type": "code",
      "source": [
        "#f strings are VERY useful when it comes to printing text AND variables in the same line\n",
        "#instead of using the complicated\n",
        "a = \"wheeee\"\n",
        "\n",
        "print(\"doodly do \" + a)\n",
        "\n",
        "#use a f string (REMEMBER THE {} FOR THE VARIABLE)\n",
        "\n",
        "b = \"yay\"\n",
        "\n",
        "print(f\"doodly do {b}\")"
      ],
      "metadata": {
        "id": "bKWv6DPTZrrr"
      },
      "execution_count": null,
      "outputs": []
    },
    {
      "cell_type": "markdown",
      "source": [
        "# **PROGRAMMING IN OTHER LANGUAGES IN COLAB**"
      ],
      "metadata": {
        "id": "oQQUss0KA1b7"
      }
    },
    {
      "cell_type": "code",
      "source": [
        "# Use %%(Any Coding Language) To Code In A Different Languge"
      ],
      "metadata": {
        "id": "xzKidaa1Ez0H"
      },
      "execution_count": null,
      "outputs": []
    },
    {
      "cell_type": "code",
      "source": [
        "%%html\n",
        "<marquee style='width: 30%; color: red;'><b>BREAKING NEWS: NEW PYTHON FEATURE DISCOVERED AND IS VERY FUN</b></marquee>"
      ],
      "metadata": {
        "id": "d_Ss5llSUbWF",
        "colab": {
          "base_uri": "https://localhost:8080/",
          "height": 38
        },
        "outputId": "6eba8b7e-a6f5-4e09-b6e9-188cb83ddfe7"
      },
      "execution_count": null,
      "outputs": [
        {
          "output_type": "display_data",
          "data": {
            "text/plain": [
              "<IPython.core.display.HTML object>"
            ],
            "text/html": [
              "<marquee style='width: 30%; color: red;'><b>BREAKING NEWS: NEW PYTHON FEATURE DISCOVERED AND IS VERY FUN</b></marquee>\n"
            ]
          },
          "metadata": {}
        }
      ]
    },
    {
      "cell_type": "code",
      "source": [
        "%%javascript\n"
      ],
      "metadata": {
        "id": "YpQxVWBqEOKI"
      },
      "execution_count": null,
      "outputs": []
    }
  ]
}